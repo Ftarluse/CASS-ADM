{
 "cells": [
  {
   "cell_type": "code",
   "execution_count": null,
   "id": "f4fa080a-6b5f-4926-adbc-18fcbc3591a3",
   "metadata": {},
   "outputs": [
    {
     "name": "stderr",
     "output_type": "stream",
     "text": [
      "INFO:__main__:Command line arguments: main.py --gpu 0 --seed 0 --log_project MVTecAD_Results --results_path results --run_name 0.02 --test pixel_roc.pth --save_segmentation_images 0 net -b wideresnet50 -le layer2 -le layer3 --pretrain_embed_dimension 1536 --target_embed_dimension 1536 --patchsize 3 --meta_epochs 200 --gan_epochs 1 --noise_std 0.02 --max_steps 20 --training_steps 5 --add_pos 1 --dsc_hidden 1024 --dsc_layers 2 --dsc_margin .5 --pre_proj 1 --gamma_clamp 0.5 dataset --batch_size 8 --resize 329 --imagesize 288 -d wood -d transistor -d tile -d screw -d pill -d capsule -d carpet -d grid -d zipper -d cable -d toothbrush -d metal_nut -d bottle -d hazelnut -d leather mvtec /root/autodl-tmp/Grad_DASC/MVTEC_AD\n",
      "INFO:__main__:Dataset: train=247 test=79\n",
      "INFO:__main__:Dataset: train=213 test=100\n",
      "INFO:__main__:Dataset: train=230 test=117\n",
      "INFO:__main__:Dataset: train=320 test=160\n",
      "INFO:__main__:Dataset: train=267 test=167\n",
      "INFO:__main__:Dataset: train=219 test=132\n",
      "INFO:__main__:Dataset: train=280 test=117\n",
      "INFO:__main__:Dataset: train=264 test=78\n",
      "INFO:__main__:Dataset: train=240 test=151\n",
      "INFO:__main__:Dataset: train=224 test=150\n",
      "INFO:__main__:Dataset: train=60 test=42\n",
      "INFO:__main__:Dataset: train=220 test=115\n",
      "INFO:__main__:Dataset: train=209 test=83\n",
      "INFO:__main__:Dataset: train=391 test=110\n",
      "INFO:__main__:Dataset: train=245 test=124\n",
      "INFO:__main__:Evaluating dataset [mvtec_wood] (1/15)...\n",
      "INFO:__main__:Training models (1/1)\n",
      "  >> Test   <<  : 100%|██████████| 10/10 [00:03<00:00,  2.74it/s]\n",
      "  >> Compute AUPRO <<  : 100%|██████████| 200/200 [00:19<00:00, 10.04it/s]\n",
      "INFO:__main__:instance_auroc: 0.991\n",
      "INFO:__main__:full_pixel_auroc: 0.951\n",
      "INFO:__main__:anomaly_pixel_auroc: 0.876\n",
      "INFO:__main__:\n",
      "\n",
      "-----\n",
      "\n",
      "INFO:__main__:Evaluating dataset [mvtec_transistor] (2/15)...\n",
      "INFO:__main__:Training models (1/1)\n",
      "  >> Test   <<  : 100%|██████████| 13/13 [00:03<00:00,  3.33it/s]\n",
      "  >> Compute AUPRO <<  :  32%|███▏      | 63/200 [00:07<00:16,  8.53it/s]"
     ]
    }
   ],
   "source": [
    "import os\n",
    "os.system(\"bash  run.sh\")"
   ]
  }
 ],
 "metadata": {
  "kernelspec": {
   "display_name": "Python 3 (ipykernel)",
   "language": "python",
   "name": "python3"
  },
  "language_info": {
   "codemirror_mode": {
    "name": "ipython",
    "version": 3
   },
   "file_extension": ".py",
   "mimetype": "text/x-python",
   "name": "python",
   "nbconvert_exporter": "python",
   "pygments_lexer": "ipython3",
   "version": "3.12.9"
  }
 },
 "nbformat": 4,
 "nbformat_minor": 5
}
